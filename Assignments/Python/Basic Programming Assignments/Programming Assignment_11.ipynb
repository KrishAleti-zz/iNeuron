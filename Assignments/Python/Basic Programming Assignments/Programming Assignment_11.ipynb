{
 "cells": [
  {
   "cell_type": "markdown",
   "metadata": {},
   "source": [
    "1. Write a Python program to find words which are greater than given length k?"
   ]
  },
  {
   "cell_type": "code",
   "execution_count": 1,
   "metadata": {},
   "outputs": [
    {
     "name": "stdout",
     "output_type": "stream",
     "text": [
      "The word which are greater than 5 are: \n",
      "['science', 'technology', 'vision', 'learning']\n"
     ]
    }
   ],
   "source": [
    "def g_len(words,length):\n",
    "    print(f\"The word which are greater than {length} are: \")\n",
    "    return(list(filter(lambda x:len(x)>length, words)))\n",
    "print(g_len([\"check\",\"science\",'data','technology','vision','learning'],5))  "
   ]
  },
  {
   "cell_type": "markdown",
   "metadata": {},
   "source": [
    "2. Write a Python program for removing i-th character from a string?"
   ]
  },
  {
   "cell_type": "code",
   "execution_count": 3,
   "metadata": {},
   "outputs": [
    {
     "name": "stdout",
     "output_type": "stream",
     "text": [
      "removng\n"
     ]
    }
   ],
   "source": [
    "def remove_char(string, i):\n",
    "    return string.replace(string[i], '')\n",
    "print(remove_char('removing', 5))"
   ]
  },
  {
   "cell_type": "markdown",
   "metadata": {},
   "source": [
    "3. Write a Python program to split and join a string?"
   ]
  },
  {
   "cell_type": "code",
   "execution_count": 8,
   "metadata": {},
   "outputs": [
    {
     "name": "stdout",
     "output_type": "stream",
     "text": [
      "iNeuron*Full*Stack*Data*Science\n"
     ]
    }
   ],
   "source": [
    "def split_join(string):\n",
    "    split= string.split(' ')\n",
    "    return '*'.join(split)\n",
    "print(split_join('iNeuron Full Stack Data Science'))"
   ]
  },
  {
   "cell_type": "markdown",
   "metadata": {},
   "source": [
    "4. Write a Python program to check if a given string is binary string or not?"
   ]
  },
  {
   "cell_type": "code",
   "execution_count": 20,
   "metadata": {},
   "outputs": [
    {
     "ename": "IndentationError",
     "evalue": "unexpected indent (<ipython-input-20-69fd089d7672>, line 5)",
     "output_type": "error",
     "traceback": [
      "\u001b[1;36m  File \u001b[1;32m\"<ipython-input-20-69fd089d7672>\"\u001b[1;36m, line \u001b[1;32m5\u001b[0m\n\u001b[1;33m    if string[1] == 'b' else False\u001b[0m\n\u001b[1;37m    ^\u001b[0m\n\u001b[1;31mIndentationError\u001b[0m\u001b[1;31m:\u001b[0m unexpected indent\n"
     ]
    }
   ],
   "source": [
    "def is_binary(string):\n",
    "    if len(string) < 2:\n",
    "        return False\n",
    "    return all(map(lambda x : x == '0' or x == '1', string[2:]))\n",
    "                                                if string[1] == 'b' else False\n",
    "\n",
    "print(is_binary('0b1001'))\n",
    "print(is_binary('0b1113'))\n",
    "print(is_binary('01113'))"
   ]
  },
  {
   "cell_type": "code",
   "execution_count": 21,
   "metadata": {},
   "outputs": [
    {
     "name": "stdout",
     "output_type": "stream",
     "text": [
      "True\n",
      "False\n",
      "False\n"
     ]
    }
   ],
   "source": [
    "def is_binary(string):\n",
    "    if len(string) < 2:\n",
    "        return False\n",
    "    return all(map(lambda x : x == '0' or x == '1', string[2:]))\\\n",
    "                                                if string[1] == 'b' else False\n",
    "\n",
    "print(is_binary('0b1001'))\n",
    "print(is_binary('0b1113'))\n",
    "print(is_binary('01113'))"
   ]
  },
  {
   "cell_type": "code",
   "execution_count": 12,
   "metadata": {},
   "outputs": [
    {
     "name": "stdout",
     "output_type": "stream",
     "text": [
      "True\n",
      "False\n",
      "False\n"
     ]
    }
   ],
   "source": [
    "def is_binary(string):\n",
    "    if len(string) < 2:\n",
    "        return False\n",
    "    return all(map(lambda x : x == '0' or x == '1', string[2:])) if string[1] == 'b' else False\n",
    "\n",
    "print(is_binary('0b1001'))\n",
    "print(is_binary('0b1113'))\n",
    "print(is_binary('01113'))"
   ]
  },
  {
   "cell_type": "markdown",
   "metadata": {},
   "source": [
    "5. Write a Python program to find uncommon words from two Strings?"
   ]
  },
  {
   "cell_type": "code",
   "execution_count": 23,
   "metadata": {},
   "outputs": [
    {
     "name": "stdout",
     "output_type": "stream",
     "text": [
      "{'designer', 'speaker', 'integrity', 'exaggerate', 'snatch', 'drag', 'evolution'}\n"
     ]
    }
   ],
   "source": [
    "def uncommon(s1, s2):\n",
    "    s_set1 = set(s1.split(' '))\n",
    "    s_set2 = set(s2.split(' '))\n",
    "    return  (s_set1.union(s_set2))-(s_set1.intersection(s_set2))\n",
    "\n",
    "s1 = 'speaker crowd rent recovery designer exaggerate'\n",
    "s2 = 'recovery drag snatch rent evolution integrity crowd'\n",
    "print(uncommon(s1, s2))"
   ]
  },
  {
   "cell_type": "markdown",
   "metadata": {},
   "source": [
    "6. Write a Python to find all duplicate characters in string?"
   ]
  },
  {
   "cell_type": "code",
   "execution_count": 33,
   "metadata": {},
   "outputs": [
    {
     "data": {
      "text/plain": [
       "['s', 'p', 'i']"
      ]
     },
     "execution_count": 33,
     "metadata": {},
     "output_type": "execute_result"
    }
   ],
   "source": [
    "def dup_char(st):\n",
    "    lst=[i for i in st]\n",
    "    duplst=[j r j in lst if lst.count(j) > 1]\n",
    "    return list(set(duplst))\n",
    "dup_char('mississippi')        "
   ]
  },
  {
   "cell_type": "markdown",
   "metadata": {},
   "source": [
    "7. Write a Python Program to check if a string contains any special character?"
   ]
  },
  {
   "cell_type": "code",
   "execution_count": 5,
   "metadata": {},
   "outputs": [
    {
     "name": "stdout",
     "output_type": "stream",
     "text": [
      "True\n",
      "False\n",
      "True\n"
     ]
    }
   ],
   "source": [
    "import re\n",
    "def spcl_char(st):\n",
    "    pattern = re.compile(r'[\\W]')\n",
    "    spcl = re.search(pattern, st)\n",
    "    return True if spcl else False\n",
    "print(spcl_char('get enrolled in FSDS course @iNeuron to get reach the *'))\n",
    "print(spcl_char('iNeuroniscool'))\n",
    "print(spcl_char('@iNeuroniscool'))"
   ]
  },
  {
   "cell_type": "code",
   "execution_count": null,
   "metadata": {},
   "outputs": [],
   "source": []
  }
 ],
 "metadata": {
  "kernelspec": {
   "display_name": "Python 3",
   "language": "python",
   "name": "python3"
  },
  "language_info": {
   "codemirror_mode": {
    "name": "ipython",
    "version": 3
   },
   "file_extension": ".py",
   "mimetype": "text/x-python",
   "name": "python",
   "nbconvert_exporter": "python",
   "pygments_lexer": "ipython3",
   "version": "3.8.5"
  }
 },
 "nbformat": 4,
 "nbformat_minor": 4
}
