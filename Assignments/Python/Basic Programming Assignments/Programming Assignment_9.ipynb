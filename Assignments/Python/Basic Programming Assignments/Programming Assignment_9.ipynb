{
 "cells": [
  {
   "cell_type": "markdown",
   "metadata": {},
   "source": [
    "1. Write a Python program to check if the given number is a Disarium Number?"
   ]
  },
  {
   "cell_type": "code",
   "execution_count": 2,
   "metadata": {},
   "outputs": [
    {
     "name": "stdout",
     "output_type": "stream",
     "text": [
      "Enter a number to check whether it is Disarium number or not: 135\n",
      "135 is Disarium number\n"
     ]
    }
   ],
   "source": [
    "num=int(input(\"Enter a number to check whether it is Disarium number or not: \"))\n",
    "count=len(str(num))\n",
    "sum=r=0\n",
    "n=num\n",
    "while(num>0):\n",
    "    r=num%10\n",
    "    sum = sum +int(r**count)\n",
    "    num=num//10\n",
    "    count=count-1\n",
    "\n",
    "if sum == n:\n",
    "    print(f'{n} is Disarium number')\n",
    "else:\n",
    "    print(f'{n} is not Disarium number')"
   ]
  },
  {
   "cell_type": "markdown",
   "metadata": {},
   "source": [
    "2. Write a Python program to print all disarium numbers between 1 to 100?"
   ]
  },
  {
   "cell_type": "code",
   "execution_count": 15,
   "metadata": {},
   "outputs": [
    {
     "name": "stdout",
     "output_type": "stream",
     "text": [
      "[0, 1, 2, 3, 4, 5, 6, 7, 8, 9, 89]\n"
     ]
    }
   ],
   "source": [
    "Disarium_list=[]\n",
    "for num in range(100):\n",
    "    count=len(str(num))\n",
    "    sum=r=0\n",
    "    n=num\n",
    "    while(num>0):\n",
    "        r=num%10\n",
    "        sum = sum + int(r**count)\n",
    "        num=num//10\n",
    "        count=count-1\n",
    "    if sum == n:\n",
    "        Disarium_list.append(n)\n",
    "print(Disarium_list)"
   ]
  },
  {
   "cell_type": "markdown",
   "metadata": {},
   "source": [
    "3. Write a Python program to check if the given number is Happy Number?"
   ]
  },
  {
   "cell_type": "code",
   "execution_count": 4,
   "metadata": {},
   "outputs": [
    {
     "name": "stdout",
     "output_type": "stream",
     "text": [
      "Enter a number: 320\n",
      "320  is a Happy Number!!!\n"
     ]
    }
   ],
   "source": [
    "'''A number is called happy if it leads to 1 after a sequence of steps wherein each step number is replaced by\n",
    "the sum of squares of its digit that is if we start with Happy Number and keep replacing it with \n",
    "digits square sum, we reach 1'''\n",
    "\n",
    "num = int(input(\"Enter a number: \"))    \n",
    "result = num \n",
    "\n",
    "def isHappyNumber(n):    \n",
    "    rem = sum = 0    \n",
    "    while(n > 0):    \n",
    "        rem = n % 10 \n",
    "        sum = sum + (rem**2)    \n",
    "        n = n // 10   \n",
    "    return sum     \n",
    "     \n",
    "while(result != 1 and result != 4):    \n",
    "    result = isHappyNumber(result)   \n",
    "     \n",
    "if(result == 1):    \n",
    "    print(num, \" is a Happy Number!!!\")   \n",
    "else:    \n",
    "    print(num, \" is an Unhappy Number!!!\")"
   ]
  },
  {
   "cell_type": "markdown",
   "metadata": {},
   "source": [
    "4. Write a Python program to print all happy numbers between 1 and 100?"
   ]
  },
  {
   "cell_type": "code",
   "execution_count": 2,
   "metadata": {},
   "outputs": [
    {
     "name": "stdout",
     "output_type": "stream",
     "text": [
      "Happy Numbers between 1 and 100 are: [1, 7, 10, 13, 19, 23, 28, 31, 32, 44, 49, 68, 70, 79, 82, 86, 91, 94, 97]\n"
     ]
    }
   ],
   "source": [
    "Happy_numbers=[]\n",
    "def isHappyNumber(n):    \n",
    "    rem = sum = 0    \n",
    "    while(n > 0):    \n",
    "        rem = n % 10 \n",
    "        sum = sum + (rem**2)    \n",
    "        n = n // 10   \n",
    "    return sum  \n",
    "\n",
    "for num in range(1,100):   \n",
    "    result = num \n",
    "    while(result != 1 and result != 4):    \n",
    "        result = isHappyNumber(result)   \n",
    "    if(result == 1):    \n",
    "#         print(num, \" is a Happy Number!!!\")\n",
    "        Happy_numbers.append(num)\n",
    "print(f'Happy Numbers between 1 and 100 are: {Happy_numbers}')"
   ]
  },
  {
   "cell_type": "markdown",
   "metadata": {},
   "source": [
    "5. Write a Python program to determine whether the given number is a Harshad Number?"
   ]
  },
  {
   "cell_type": "code",
   "execution_count": 5,
   "metadata": {},
   "outputs": [
    {
     "name": "stdout",
     "output_type": "stream",
     "text": [
      "Enter a number to check whether it is Harshad number or not: 192\n",
      "192 is Harshad number\n"
     ]
    }
   ],
   "source": [
    "# A number is said to be the Harshad number if it is divisible by the sum of its digits.\n",
    "num=int(input(\"Enter a number to check whether it is Harshad number or not: \"))\n",
    "\n",
    "sum=r=0\n",
    "n=num\n",
    "\n",
    "while(num>0):\n",
    "    r=num%10;\n",
    "    sum = sum + r\n",
    "    num=num//10\n",
    "rem=n%sum\n",
    "    \n",
    "if rem == 0:\n",
    "    print(f'{n} is Harshad number')\n",
    "else:\n",
    "    print(f'{n} is not Harshad number')"
   ]
  },
  {
   "cell_type": "markdown",
   "metadata": {},
   "source": [
    "6. Write a Python program to print all pronic numbers between 1 and 100?"
   ]
  },
  {
   "cell_type": "code",
   "execution_count": 1,
   "metadata": {},
   "outputs": [
    {
     "name": "stdout",
     "output_type": "stream",
     "text": [
      "Pronics Numbers between 1 and 100 are: [2, 6, 12, 20, 30, 42, 56, 72, 90]\n"
     ]
    }
   ],
   "source": [
    "# A pronic number is a number which is the product of two consecutive integers, that is, a number of the form n(n + 1)\n",
    "pronic_numbers=[]\n",
    "for num in range(1,100):\n",
    "    for j in range(1,num+1):\n",
    "        if((j*(j+1)) == num):\n",
    "            pronic_numbers.append(num)\n",
    "print(f'Pronics Numbers between 1 and 100 are: {pronic_numbers}')   "
   ]
  },
  {
   "cell_type": "code",
   "execution_count": null,
   "metadata": {},
   "outputs": [],
   "source": []
  }
 ],
 "metadata": {
  "kernelspec": {
   "display_name": "Python 3",
   "language": "python",
   "name": "python3"
  },
  "language_info": {
   "codemirror_mode": {
    "name": "ipython",
    "version": 3
   },
   "file_extension": ".py",
   "mimetype": "text/x-python",
   "name": "python",
   "nbconvert_exporter": "python",
   "pygments_lexer": "ipython3",
   "version": "3.8.5"
  }
 },
 "nbformat": 4,
 "nbformat_minor": 4
}
