{
 "cells": [
  {
   "cell_type": "code",
   "execution_count": null,
   "metadata": {},
   "outputs": [],
   "source": [
    "# Write a Python Program to Find LCM?\n",
    "# Write a Python Program to Find HCF?\n",
    "# Write a Python Program to Convert Decimal to Binary, Octal and Hexadecimal?\n",
    "# Write a Python Program To Find ASCII value of a character?\n",
    "# Write a Python Program to Make a Simple Calculator with 4 basic mathematical operations?"
   ]
  },
  {
   "cell_type": "markdown",
   "metadata": {},
   "source": [
    "1.Write a Python Program to Find LCM?"
   ]
  },
  {
   "cell_type": "code",
   "execution_count": 1,
   "metadata": {},
   "outputs": [
    {
     "name": "stdout",
     "output_type": "stream",
     "text": [
      "Enter the 1st number: 4\n",
      "Enter the 2nd number: 6\n",
      "LCM of 4 and 6 is: 12\n"
     ]
    }
   ],
   "source": [
    "n1 = int(input(\"Enter the 1st number: \"))\n",
    "n2 = int(input(\"Enter the 2nd number: \"))\n",
    "if (n1>n2):\n",
    "    max=n1  #LCM of two nnumbers will be always greater than or equal to the largest of 2 numbers\n",
    "else: \n",
    "    max=n2\n",
    "\n",
    "while(True):\n",
    "    if((max%n1==0) and (max%n2==0)):\n",
    "        print(f'LCM of {n1} and {n2} is: {max}')\n",
    "        break\n",
    "    max=max+1\n",
    "        "
   ]
  },
  {
   "cell_type": "markdown",
   "metadata": {},
   "source": [
    "2.Write a Python Program to Find HCF?"
   ]
  },
  {
   "cell_type": "code",
   "execution_count": 6,
   "metadata": {
    "scrolled": false
   },
   "outputs": [
    {
     "name": "stdout",
     "output_type": "stream",
     "text": [
      "Enter the 1st number: 24\n",
      "Enter the 2nd number: 12\n",
      "HCF of 24 and 12 is: 12\n"
     ]
    }
   ],
   "source": [
    "#HCF of two numbers will be always smaller than or equal to the smallest of 2 numbers\n",
    "a = int(input(\"Enter the 1st number: \"))\n",
    "b = int(input(\"Enter the 2nd number: \"))\n",
    "if (b<a):\n",
    "    n1,n2=a,b\n",
    "else: \n",
    "    n1=(a*b)/a\n",
    "    n2=(a*b)/b\n",
    "#     print(n1,n2)    \n",
    "while(n2):\n",
    "    if((n1%n2)!= 0):\n",
    "        temp2=n2\n",
    "        n2=n1%n2\n",
    "        n1=n2\n",
    "    else:\n",
    "        HCF=n2\n",
    "        break\n",
    "print(f'HCF of {a} and {b} is: {HCF}')"
   ]
  },
  {
   "cell_type": "markdown",
   "metadata": {},
   "source": [
    "3.Write a Python Program to Convert Decimal to Binary, Octal and Hexadecimal?"
   ]
  },
  {
   "cell_type": "code",
   "execution_count": 7,
   "metadata": {},
   "outputs": [
    {
     "name": "stdout",
     "output_type": "stream",
     "text": [
      "Binary of 125 is 0b1111101\n",
      "Octal of 125 is 0o175\n",
      "Hexadecimal of 125 is 0x7d\n"
     ]
    }
   ],
   "source": [
    "def convert(dec):\n",
    "    print(f'Binary of {dec} is {bin(dec)}')\n",
    "    print(f'Octal of {dec} is {oct(dec)}')\n",
    "    print(f'Hexadecimal of {dec} is {hex(dec)}')\n",
    "convert(125)"
   ]
  },
  {
   "cell_type": "markdown",
   "metadata": {},
   "source": [
    "4.Write a Python Program To Find ASCII value of a character?"
   ]
  },
  {
   "cell_type": "code",
   "execution_count": 8,
   "metadata": {},
   "outputs": [
    {
     "data": {
      "text/plain": [
       "107"
      ]
     },
     "execution_count": 8,
     "metadata": {},
     "output_type": "execute_result"
    }
   ],
   "source": [
    "def find_ascii(char):\n",
    "    return ord(char)\n",
    "find_ascii('k')"
   ]
  },
  {
   "cell_type": "markdown",
   "metadata": {},
   "source": [
    "5.Write a Python Program to Make a Simple Calculator with 4 basic mathematical operations?"
   ]
  },
  {
   "cell_type": "code",
   "execution_count": 16,
   "metadata": {},
   "outputs": [
    {
     "name": "stdout",
     "output_type": "stream",
     "text": [
      "20\n",
      "40\n",
      "40\n",
      "0.3\n"
     ]
    }
   ],
   "source": [
    "class Calculator:\n",
    "    def add(self, num1, num2):\n",
    "        return num1 + num2\n",
    "    \n",
    "    def sub(self, num1, num2):\n",
    "        return num1 - num2\n",
    "    \n",
    "    def mult(self, num1, num2):\n",
    "        return num1 * num2\n",
    "    \n",
    "    def divide(self, num1, num2):\n",
    "        try:\n",
    "            return num1 / num2\n",
    "        except ZeroDivisionError:\n",
    "            return 'num2 == 0, please avoid this'\n",
    "calc = Calculator()\n",
    "print(calc.add(5,15))\n",
    "print(calc.sub(50,10))\n",
    "print(calc.mult(4,10))\n",
    "print(calc.divide(3,10))"
   ]
  },
  {
   "cell_type": "code",
   "execution_count": null,
   "metadata": {},
   "outputs": [],
   "source": []
  }
 ],
 "metadata": {
  "kernelspec": {
   "display_name": "Python 3",
   "language": "python",
   "name": "python3"
  },
  "language_info": {
   "codemirror_mode": {
    "name": "ipython",
    "version": 3
   },
   "file_extension": ".py",
   "mimetype": "text/x-python",
   "name": "python",
   "nbconvert_exporter": "python",
   "pygments_lexer": "ipython3",
   "version": "3.8.5"
  }
 },
 "nbformat": 4,
 "nbformat_minor": 4
}
