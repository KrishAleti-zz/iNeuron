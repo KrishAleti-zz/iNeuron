{
 "cells": [
  {
   "cell_type": "code",
   "execution_count": null,
   "metadata": {},
   "outputs": [],
   "source": [
    "# Write a Python Program to Display Fibonacci Sequence Using Recursion?\n",
    "# Write a Python Program to Find Factorial of Number Using Recursion?\n",
    "# Write a Python Program to calculate your Body Mass Index?\n",
    "# Write a Python Program to calculate the natural logarithm of any number?\n",
    "# Write a Python Program for cube sum of first n natural numbers?"
   ]
  },
  {
   "cell_type": "markdown",
   "metadata": {},
   "source": [
    "1.Write a Python Program to Display Fibonacci Sequence Using Recursion?"
   ]
  },
  {
   "cell_type": "code",
   "execution_count": 3,
   "metadata": {},
   "outputs": [
    {
     "name": "stdout",
     "output_type": "stream",
     "text": [
      "4\n",
      "0 1 1 2 "
     ]
    }
   ],
   "source": [
    "def fibo(num):\n",
    "    if num == 0 or num == 1:\n",
    "        return num\n",
    "    return fibo(num - 1) + fibo(num - 2)\n",
    "for i in range(int(input())):\n",
    "    print(fibo(i), end = ' ')"
   ]
  },
  {
   "cell_type": "markdown",
   "metadata": {},
   "source": [
    "2.Write a Python Program to Find Factorial of Number Using Recursion?"
   ]
  },
  {
   "cell_type": "code",
   "execution_count": 6,
   "metadata": {},
   "outputs": [
    {
     "data": {
      "text/plain": [
       "120"
      ]
     },
     "execution_count": 6,
     "metadata": {},
     "output_type": "execute_result"
    }
   ],
   "source": [
    "def fact(num):\n",
    "    if num == 1:\n",
    "        return num\n",
    "    return fact(num - 1) * num\n",
    "fact(5)"
   ]
  },
  {
   "cell_type": "markdown",
   "metadata": {},
   "source": [
    "3.Write a Python Program to calculate your Body Mass Index?"
   ]
  },
  {
   "cell_type": "code",
   "execution_count": 9,
   "metadata": {},
   "outputs": [
    {
     "name": "stdout",
     "output_type": "stream",
     "text": [
      "Enter Height in cm :167\n",
      "Enter Weight in Kgs: 60\n",
      "Body Mass Index for height 167cms & 60Kgs is 21.513858510523864\n"
     ]
    }
   ],
   "source": [
    "# BMI = kg/m2 where kg is a person's weight in kilograms and m2 is their height in metres squared\n",
    "ht=int(input('Enter Height in cm :'))\n",
    "wt=int(input(\"Enter Weight in Kgs: \"))\n",
    "ht_mt = ht/100\n",
    "BMI=wt/(ht_mt ** 2)\n",
    "print(f'Body Mass Index for height {ht}cms & {wt}Kgs is {BMI}')\n"
   ]
  },
  {
   "cell_type": "markdown",
   "metadata": {},
   "source": [
    "4.Write a Python Program to calculate the natural logarithm of any number?"
   ]
  },
  {
   "cell_type": "code",
   "execution_count": 16,
   "metadata": {},
   "outputs": [
    {
     "name": "stdout",
     "output_type": "stream",
     "text": [
      "Enter a number: 14\n",
      "Natural logarithm of 14 (base e) is : 2.6390573296152584\n"
     ]
    }
   ],
   "source": [
    "import math\n",
    "num=int(input(\"Enter a number: \"))\n",
    "print (f\"Natural logarithm of {num} (base e) is : {math.log(num)}\")"
   ]
  },
  {
   "cell_type": "markdown",
   "metadata": {},
   "source": [
    "5.Write a Python Program for cube sum of first n natural numbers?"
   ]
  },
  {
   "cell_type": "code",
   "execution_count": 21,
   "metadata": {},
   "outputs": [
    {
     "name": "stdout",
     "output_type": "stream",
     "text": [
      "Enter a number: 5\n",
      "cube sum of first 5 natural numbers is: 225\n"
     ]
    }
   ],
   "source": [
    "n= int(input(\"Enter a number: \"))\n",
    "print(f'cube sum of first {n} natural numbers is: {((n * (n + 1))//2)**2}')"
   ]
  },
  {
   "cell_type": "code",
   "execution_count": null,
   "metadata": {},
   "outputs": [],
   "source": []
  }
 ],
 "metadata": {
  "kernelspec": {
   "display_name": "Python 3",
   "language": "python",
   "name": "python3"
  },
  "language_info": {
   "codemirror_mode": {
    "name": "ipython",
    "version": 3
   },
   "file_extension": ".py",
   "mimetype": "text/x-python",
   "name": "python",
   "nbconvert_exporter": "python",
   "pygments_lexer": "ipython3",
   "version": "3.8.5"
  }
 },
 "nbformat": 4,
 "nbformat_minor": 4
}
