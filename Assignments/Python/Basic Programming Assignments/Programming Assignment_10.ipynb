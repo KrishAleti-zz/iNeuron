{
 "cells": [
  {
   "cell_type": "markdown",
   "metadata": {},
   "source": [
    "1. Write a Python program to find sum of elements in list?"
   ]
  },
  {
   "cell_type": "code",
   "execution_count": 4,
   "metadata": {},
   "outputs": [
    {
     "name": "stdout",
     "output_type": "stream",
     "text": [
      "14\n"
     ]
    }
   ],
   "source": [
    "def sum_list(lst):\n",
    "    sum=0\n",
    "    for i in lst:\n",
    "        sum=sum+i\n",
    "    return sum\n",
    "print(sum_list([5,2,3,4]))"
   ]
  },
  {
   "cell_type": "markdown",
   "metadata": {},
   "source": [
    "2. Write a Python program to  Multiply all numbers in the list?"
   ]
  },
  {
   "cell_type": "code",
   "execution_count": 6,
   "metadata": {},
   "outputs": [
    {
     "name": "stdout",
     "output_type": "stream",
     "text": [
      "120\n"
     ]
    }
   ],
   "source": [
    "def mul_list(lst):\n",
    "    mul=1\n",
    "    for i in lst:\n",
    "        mul=mul*i\n",
    "    return mul\n",
    "print(mul_list([5,2,3,4]))"
   ]
  },
  {
   "cell_type": "markdown",
   "metadata": {},
   "source": [
    "3. Write a Python program to find smallest number in a list?"
   ]
  },
  {
   "cell_type": "code",
   "execution_count": 9,
   "metadata": {},
   "outputs": [
    {
     "name": "stdout",
     "output_type": "stream",
     "text": [
      "2\n"
     ]
    }
   ],
   "source": [
    "def find_smallest(lst):\n",
    "    return min(lst)\n",
    "print(find_smallest([5,2,3,4]))"
   ]
  },
  {
   "cell_type": "markdown",
   "metadata": {},
   "source": [
    "4. Write a Python program to find largest number in a list?"
   ]
  },
  {
   "cell_type": "code",
   "execution_count": 10,
   "metadata": {},
   "outputs": [
    {
     "name": "stdout",
     "output_type": "stream",
     "text": [
      "5\n"
     ]
    }
   ],
   "source": [
    "def find_largest(lst):\n",
    "    return max(lst)\n",
    "print(find_largest([5,2,3,4]))"
   ]
  },
  {
   "cell_type": "markdown",
   "metadata": {},
   "source": [
    "5. Write a Python program to find second largest number in a list?"
   ]
  },
  {
   "cell_type": "code",
   "execution_count": 7,
   "metadata": {},
   "outputs": [
    {
     "name": "stdout",
     "output_type": "stream",
     "text": [
      "Second largest number in [6,12,13,45] is 13\n"
     ]
    }
   ],
   "source": [
    "def find_largest(lst):\n",
    "    return max(lst)\n",
    "\n",
    "def second_largest(lst):\n",
    "    largest = find_largest(lst)\n",
    "    second_largest = None\n",
    "    \n",
    "    for i in lst:\n",
    "        if i < largest:\n",
    "            if (second_largest and i > second_largest) or (second_largest == None):\n",
    "                second_largest = i\n",
    "    return second_largest\n",
    "\n",
    "second_largest([6,12,13,45])\n",
    "print(f'Second largest number in [6,12,13,45] is {second_largest([6,12,13,45])}')"
   ]
  },
  {
   "cell_type": "code",
   "execution_count": 1,
   "metadata": {},
   "outputs": [
    {
     "name": "stdout",
     "output_type": "stream",
     "text": [
      "<class 'int'>\n"
     ]
    }
   ],
   "source": [
    "x = 0 and None\n",
    "print(type(x))"
   ]
  },
  {
   "cell_type": "markdown",
   "metadata": {},
   "source": [
    "6. Write a Python program to find N largest elements from a list?"
   ]
  },
  {
   "cell_type": "code",
   "execution_count": 11,
   "metadata": {},
   "outputs": [
    {
     "name": "stdout",
     "output_type": "stream",
     "text": [
      "[123, 112, 45]\n"
     ]
    }
   ],
   "source": [
    "def n_largest(lst, n):\n",
    "    lst = sorted(lst,reverse=True)\n",
    "    if n < len(lst):\n",
    "        return (lst[:n])\n",
    "    else: \n",
    "        return ('n is larger than length of list')\n",
    "print(n_largest([-80,1,6,112,123,45], 3))"
   ]
  },
  {
   "cell_type": "markdown",
   "metadata": {},
   "source": [
    "7. Write a Python program to print even numbers in a list?"
   ]
  },
  {
   "cell_type": "code",
   "execution_count": 17,
   "metadata": {},
   "outputs": [
    {
     "name": "stdout",
     "output_type": "stream",
     "text": [
      "[22, 4]\n"
     ]
    }
   ],
   "source": [
    "def even(lst):\n",
    "    return list(filter(lambda x:x%2==0,lst))\n",
    "print(even([15,22,13,4]))"
   ]
  },
  {
   "cell_type": "markdown",
   "metadata": {},
   "source": [
    "8. Write a Python program to print odd numbers in a List?"
   ]
  },
  {
   "cell_type": "code",
   "execution_count": 18,
   "metadata": {},
   "outputs": [
    {
     "name": "stdout",
     "output_type": "stream",
     "text": [
      "[5, 13, 41]\n"
     ]
    }
   ],
   "source": [
    "def odd(lst):\n",
    "    return list(filter(lambda x:x%2!=0,lst))\n",
    "print(odd([5,32,13,41,26]))"
   ]
  },
  {
   "cell_type": "markdown",
   "metadata": {},
   "source": [
    "9. Write a Python program to Remove empty List from List?"
   ]
  },
  {
   "cell_type": "code",
   "execution_count": 1,
   "metadata": {},
   "outputs": [
    {
     "name": "stdout",
     "output_type": "stream",
     "text": [
      "[-39, -82, [1, 2, 3], 31, -28, -5, 49, -64, 92, [2], -17]\n"
     ]
    }
   ],
   "source": [
    "def remove_list(lst):\n",
    "    i = 0\n",
    "    while i < len(lst):\n",
    "        if type(lst[i]) == list and not len(lst[i]):\n",
    "            lst.remove([])\n",
    "            i -= 1\n",
    "        i+=1\n",
    "    return lst\n",
    "    \n",
    "print(remove_list([-39, -82,[1,2,3], 31, -28,[], -5, 49, -64, 92,[2],[], -17,[]]))"
   ]
  },
  {
   "cell_type": "markdown",
   "metadata": {},
   "source": [
    "10. Write a Python program to Cloning or Copying a list?"
   ]
  },
  {
   "cell_type": "code",
   "execution_count": 3,
   "metadata": {},
   "outputs": [
    {
     "name": "stdout",
     "output_type": "stream",
     "text": [
      "[-4, 91, -5, 58, 5, 3, 47, -1, 7]\n"
     ]
    }
   ],
   "source": [
    "import copy\n",
    "\n",
    "def clone(lst):\n",
    "    return copy.copy(lst)\n",
    "\n",
    "print(clone([-4, 91, -5, 58, 5, 3, 47, -1, 7]))"
   ]
  },
  {
   "cell_type": "markdown",
   "metadata": {},
   "source": [
    "11. Write a Python program to Count occurrences of an element in a list?"
   ]
  },
  {
   "cell_type": "code",
   "execution_count": 4,
   "metadata": {},
   "outputs": [
    {
     "data": {
      "text/plain": [
       "2"
      ]
     },
     "execution_count": 4,
     "metadata": {},
     "output_type": "execute_result"
    }
   ],
   "source": [
    "def count(lst, ele):\n",
    "    return lst.count(ele)\n",
    "count([-4, 91, -5, 58, 5,-7,-7,3, 47, -1, 7],-7)"
   ]
  },
  {
   "cell_type": "code",
   "execution_count": null,
   "metadata": {},
   "outputs": [],
   "source": []
  }
 ],
 "metadata": {
  "kernelspec": {
   "display_name": "Python 3",
   "language": "python",
   "name": "python3"
  },
  "language_info": {
   "codemirror_mode": {
    "name": "ipython",
    "version": 3
   },
   "file_extension": ".py",
   "mimetype": "text/x-python",
   "name": "python",
   "nbconvert_exporter": "python",
   "pygments_lexer": "ipython3",
   "version": "3.8.5"
  }
 },
 "nbformat": 4,
 "nbformat_minor": 4
}
