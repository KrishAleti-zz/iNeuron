{
 "cells": [
  {
   "cell_type": "code",
   "execution_count": null,
   "metadata": {},
   "outputs": [],
   "source": [
    "# Write a Python program to convert kilometers to miles?\n",
    "# Write a Python program to convert Celsius to Fahrenheit?\n",
    "# Write a Python program to display calendar?\n",
    "# Write a Python program to solve quadratic equation?\n",
    "# Write a Python program to swap two variables without temp variable?"
   ]
  },
  {
   "cell_type": "markdown",
   "metadata": {},
   "source": [
    "1.Write a Python program to convert kilometers to miles?"
   ]
  },
  {
   "cell_type": "code",
   "execution_count": 10,
   "metadata": {},
   "outputs": [
    {
     "name": "stdout",
     "output_type": "stream",
     "text": [
      "Please enter the value which you want to convert into Miles: 5\n",
      "5.0 Kilometer(s) equals to 3.10685595 Mile(s)\n"
     ]
    }
   ],
   "source": [
    "\"\"\"\n",
    "1.609344 kilometers in 1 mile. \n",
    "1 Kilometer = 0.62137119 Miles\n",
    "\"\"\"\n",
    "\n",
    "km=float(input(\"Please enter the value which you want to convert into Miles: \"))\n",
    "mls= km*(0.62137119)\n",
    "print(f'{km} Kilometer(s) equals to {mls} Mile(s)')"
   ]
  },
  {
   "cell_type": "markdown",
   "metadata": {},
   "source": [
    "2.Write a Python program to convert Celsius to Fahrenheit?"
   ]
  },
  {
   "cell_type": "code",
   "execution_count": 14,
   "metadata": {},
   "outputs": [
    {
     "name": "stdout",
     "output_type": "stream",
     "text": [
      "Please enter the value which you want to convert into °F: 97.5\n",
      "97.5°C equals to 207.5°F\n"
     ]
    }
   ],
   "source": [
    "\"\"\"(0°C × 9/5) + 32 = 32°F\n",
    "Fahrenheit (°F) representation is: °F = (9/5 × °C) + 32\n",
    "\"\"\"\n",
    "\n",
    "C=float(input(\"Please enter the value which you want to convert into °F: \"))\n",
    "F = ((9/5) * C) + 32\n",
    "print(f'{C}°C equals to {F}°F')"
   ]
  },
  {
   "cell_type": "markdown",
   "metadata": {},
   "source": [
    "3.Write a Python program to display calendar?"
   ]
  },
  {
   "cell_type": "code",
   "execution_count": 8,
   "metadata": {},
   "outputs": [
    {
     "name": "stdout",
     "output_type": "stream",
     "text": [
      "Enter the desired Year (informat of YYYY): 2021\n",
      "Enter the desired Month: 5\n",
      "The Calendar of the desired Year & Month is: \n",
      "      May 2021\n",
      "Mo Tu We Th Fr Sa Su\n",
      "                1  2\n",
      " 3  4  5  6  7  8  9\n",
      "10 11 12 13 14 15 16\n",
      "17 18 19 20 21 22 23\n",
      "24 25 26 27 28 29 30\n",
      "31\n",
      "\n"
     ]
    }
   ],
   "source": [
    "import calendar\n",
    "yyyy=int(input(\"Enter the desired Year (informat of YYYY): \"))\n",
    "m=int(input(\"Enter the desired Month: \"))\n",
    "print(f'The Calendar of the desired Year & Month is: \\n{calendar.month(yyyy,m)}')"
   ]
  },
  {
   "cell_type": "code",
   "execution_count": 9,
   "metadata": {},
   "outputs": [
    {
     "name": "stdout",
     "output_type": "stream",
     "text": [
      "Enter the desired Year (informat of YYYY): 2021\n",
      "The Calendar of the desired Year is: \n",
      "                                  2021\n",
      "\n",
      "      January                   February                   March\n",
      "Mo Tu We Th Fr Sa Su      Mo Tu We Th Fr Sa Su      Mo Tu We Th Fr Sa Su\n",
      "             1  2  3       1  2  3  4  5  6  7       1  2  3  4  5  6  7\n",
      " 4  5  6  7  8  9 10       8  9 10 11 12 13 14       8  9 10 11 12 13 14\n",
      "11 12 13 14 15 16 17      15 16 17 18 19 20 21      15 16 17 18 19 20 21\n",
      "18 19 20 21 22 23 24      22 23 24 25 26 27 28      22 23 24 25 26 27 28\n",
      "25 26 27 28 29 30 31                                29 30 31\n",
      "\n",
      "       April                      May                       June\n",
      "Mo Tu We Th Fr Sa Su      Mo Tu We Th Fr Sa Su      Mo Tu We Th Fr Sa Su\n",
      "          1  2  3  4                      1  2          1  2  3  4  5  6\n",
      " 5  6  7  8  9 10 11       3  4  5  6  7  8  9       7  8  9 10 11 12 13\n",
      "12 13 14 15 16 17 18      10 11 12 13 14 15 16      14 15 16 17 18 19 20\n",
      "19 20 21 22 23 24 25      17 18 19 20 21 22 23      21 22 23 24 25 26 27\n",
      "26 27 28 29 30            24 25 26 27 28 29 30      28 29 30\n",
      "                          31\n",
      "\n",
      "        July                     August                  September\n",
      "Mo Tu We Th Fr Sa Su      Mo Tu We Th Fr Sa Su      Mo Tu We Th Fr Sa Su\n",
      "          1  2  3  4                         1             1  2  3  4  5\n",
      " 5  6  7  8  9 10 11       2  3  4  5  6  7  8       6  7  8  9 10 11 12\n",
      "12 13 14 15 16 17 18       9 10 11 12 13 14 15      13 14 15 16 17 18 19\n",
      "19 20 21 22 23 24 25      16 17 18 19 20 21 22      20 21 22 23 24 25 26\n",
      "26 27 28 29 30 31         23 24 25 26 27 28 29      27 28 29 30\n",
      "                          30 31\n",
      "\n",
      "      October                   November                  December\n",
      "Mo Tu We Th Fr Sa Su      Mo Tu We Th Fr Sa Su      Mo Tu We Th Fr Sa Su\n",
      "             1  2  3       1  2  3  4  5  6  7             1  2  3  4  5\n",
      " 4  5  6  7  8  9 10       8  9 10 11 12 13 14       6  7  8  9 10 11 12\n",
      "11 12 13 14 15 16 17      15 16 17 18 19 20 21      13 14 15 16 17 18 19\n",
      "18 19 20 21 22 23 24      22 23 24 25 26 27 28      20 21 22 23 24 25 26\n",
      "25 26 27 28 29 30 31      29 30                     27 28 29 30 31\n",
      "\n"
     ]
    }
   ],
   "source": [
    "import calendar\n",
    "yyyy=int(input(\"Enter the desired Year (informat of YYYY): \"))\n",
    "print(f'The Calendar of the desired Year is: \\n{calendar.calendar(yyyy)}')"
   ]
  },
  {
   "cell_type": "markdown",
   "metadata": {},
   "source": [
    "4.Write a Python program to solve quadratic equation?"
   ]
  },
  {
   "cell_type": "code",
   "execution_count": 31,
   "metadata": {},
   "outputs": [
    {
     "name": "stdout",
     "output_type": "stream",
     "text": [
      "A quadratic equation in math is a second-degree equation of the form ax² + bx + c = 0\n",
      "Enter the value of a in the quadratic equation: 1\n",
      "Enter the value of a in the quadratic equation: 10\n",
      "Enter the value of a in the quadratic equation: -24\n",
      "Roots of this quadratic equation 1x²+10x+-24=0 are (-12+0j), (2+0j)\n"
     ]
    }
   ],
   "source": [
    "'''The quadratic formula helps us solve any quadratic equation. \n",
    "First, we bring the equation to the form ax²+bx+c=0, where a, b, and c are coefficients. \n",
    "Then, we plug these coefficients in the formula: (-b±√(b²-4ac))/(2a) or ((-b ± (((b ** 2) - (4 * a * c)) ** 0.5)) / (2 * a))'''\n",
    "\n",
    "import cmath\n",
    "print(\"A quadratic equation in math is a second-degree equation of the form ax² + bx + c = 0\")\n",
    "a = int(input(\"Enter the value of a in the quadratic equation: \"))\n",
    "while True:\n",
    "    if a == 0:\n",
    "        print (\"If a is 0, then it is not Quadratic equation, please enter some value which is not equal to 0\")\n",
    "        break\n",
    "    b = int(input(\"Enter the value of a in the quadratic equation: \"))\n",
    "    c = int(input(\"Enter the value of a in the quadratic equation: \"))\n",
    "    d = (b**2) - (4*a*c)\n",
    "    root1 = (-b-cmath.sqrt(d))/(2 * a)\n",
    "    root2 = (-b + cmath.sqrt(d))/(2 * a)\n",
    "    print(f'Roots of this quadratic equation {a}x²+{b}x+{c}=0 are {root1}, {root2}')\n",
    "    break"
   ]
  },
  {
   "cell_type": "markdown",
   "metadata": {},
   "source": [
    "5.Write a Python program to swap two variables without temp variable?"
   ]
  },
  {
   "cell_type": "code",
   "execution_count": 33,
   "metadata": {},
   "outputs": [
    {
     "name": "stdout",
     "output_type": "stream",
     "text": [
      "Please enter the value of a: 20\n",
      "Please enter the value of b: 50\n",
      "a after swapping becomes A which equals to:  50.0\n",
      "b after swapping becomes B which equals to:  20.0\n"
     ]
    }
   ],
   "source": [
    "a=int(input(\"Please enter the value of a: \"))\n",
    "b=int(input(\"Please enter the value of b: \"))\n",
    "A=(a*b)/a #Value of 'a' after swapping is 'A'\n",
    "B=(a*b)/b #Value of 'b' after swapping is 'B'\n",
    "print(\"a after swapping becomes A which equals to: \", A)\n",
    "print(\"b after swapping becomes B which equals to: \", B)"
   ]
  }
 ],
 "metadata": {
  "kernelspec": {
   "display_name": "Python 3",
   "language": "python",
   "name": "python3"
  },
  "language_info": {
   "codemirror_mode": {
    "name": "ipython",
    "version": 3
   },
   "file_extension": ".py",
   "mimetype": "text/x-python",
   "name": "python",
   "nbconvert_exporter": "python",
   "pygments_lexer": "ipython3",
   "version": "3.8.5"
  }
 },
 "nbformat": 4,
 "nbformat_minor": 4
}
