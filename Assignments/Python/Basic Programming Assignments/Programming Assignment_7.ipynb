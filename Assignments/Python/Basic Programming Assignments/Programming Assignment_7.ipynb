{
 "cells": [
  {
   "cell_type": "code",
   "execution_count": 1,
   "metadata": {},
   "outputs": [],
   "source": [
    "# Write a Python Program to find sum of array?\n",
    "# Write a Python Program to find largest element in an array?\n",
    "# Write a Python Program for array rotation?\n",
    "# Write a Python Program to Split the array and add the first part to the end?\n",
    "# Write a Python Program to check if given array is Monotonic?"
   ]
  },
  {
   "cell_type": "markdown",
   "metadata": {},
   "source": [
    "1.Write a Python Program to find sum of array?"
   ]
  },
  {
   "cell_type": "code",
   "execution_count": 3,
   "metadata": {},
   "outputs": [
    {
     "name": "stdout",
     "output_type": "stream",
     "text": [
      "15\n"
     ]
    }
   ],
   "source": [
    "sum=0\n",
    "arr=[1,2,3,4,5]\n",
    "for i in range (len(arr)+1):\n",
    "    sum=sum+i\n",
    "print(sum)"
   ]
  },
  {
   "cell_type": "markdown",
   "metadata": {},
   "source": [
    "2.Write a Python Program to find largest element in an array?"
   ]
  },
  {
   "cell_type": "code",
   "execution_count": 5,
   "metadata": {},
   "outputs": [
    {
     "name": "stdout",
     "output_type": "stream",
     "text": [
      "100\n"
     ]
    }
   ],
   "source": [
    "arr=[1,2,3,4,5,8,6,10,100,25]\n",
    "print(max(arr))"
   ]
  },
  {
   "cell_type": "markdown",
   "metadata": {},
   "source": [
    "3.Write a Python Program for array rotation?"
   ]
  },
  {
   "cell_type": "code",
   "execution_count": 2,
   "metadata": {},
   "outputs": [
    {
     "name": "stdout",
     "output_type": "stream",
     "text": [
      "Enter how many times the list needs to be rotated: 1\n",
      "[4, 1, 2, 3]\n"
     ]
    }
   ],
   "source": [
    "# #for 1 iteration only:\n",
    "# lst=[1,2,3,4]\n",
    "# pos=2\n",
    "# le=len(lst)\n",
    "# new_lst = [None] * le\n",
    "# n=int(input(\"Enter how many times the list needs to be rotated: \"))\n",
    "\n",
    "# for i in range(n):\n",
    "#     new_lst[i] = lst[le-i-1]\n",
    "#     new_lst[i+1:]=lst[:le-i-1]\n",
    "# print(new_lst)"
   ]
  },
  {
   "cell_type": "code",
   "execution_count": 15,
   "metadata": {},
   "outputs": [
    {
     "name": "stdout",
     "output_type": "stream",
     "text": [
      "Enter how many times the list needs to be rotated: 2\n",
      "[1, 2, 3, 4], After shifting 0 positions: [1, 2, 3, 4]\n",
      "[1, 2, 3, 4], After shifting 1 positions: [4, 1, 2, 3]\n",
      "[1, 2, 3, 4], After shifting 2 positions: [3, 4, 1, 2]\n"
     ]
    }
   ],
   "source": [
    "lst=[1,2,3,4]\n",
    "pos=2\n",
    "le=len(lst)\n",
    "new_lst = [None] * le\n",
    "n=int(input(\"Enter how many times the list needs to be rotated: \"))\n",
    "for i in range(n+1):\n",
    "    new_lst[:i] = lst[le-i:]\n",
    "    new_lst[i:]=lst[:le-i]\n",
    "    print(f'{lst}, After shifting {i} positions: {new_lst}')"
   ]
  },
  {
   "cell_type": "markdown",
   "metadata": {},
   "source": [
    "4.Write a Python Program to Split the array and add the first part to the end?"
   ]
  },
  {
   "cell_type": "code",
   "execution_count": 22,
   "metadata": {},
   "outputs": [
    {
     "name": "stdout",
     "output_type": "stream",
     "text": [
      "Enter how many times the list needs to be rotated: 2\n",
      "[1, 2, 3, 4, 5], After shifting 0 positions: [1, 2, 3, 4, 5]\n",
      "[1, 2, 3, 4, 5], After shifting 1 positions: [2, 3, 4, 5, 1]\n",
      "[1, 2, 3, 4, 5], After shifting 2 positions: [3, 4, 5, 1, 2]\n"
     ]
    }
   ],
   "source": [
    "#right shifting\n",
    "lst=[1,2,3,4,5]\n",
    "pos=2\n",
    "le=len(lst)\n",
    "new_lst = [None] * le\n",
    "n=int(input(\"Enter how many times the list needs to be rotated: \"))\n",
    "for i in range(n+1):\n",
    "    new_lst[le-i:] = lst[:i]\n",
    "    new_lst[:le-i]=lst[i:]\n",
    "    print(f'{lst}, After shifting {i} positions: {new_lst}')\n"
   ]
  },
  {
   "cell_type": "markdown",
   "metadata": {},
   "source": [
    "5.Write a Python Program to check if given array is Monotonic?"
   ]
  },
  {
   "cell_type": "code",
   "execution_count": 3,
   "metadata": {},
   "outputs": [
    {
     "name": "stdout",
     "output_type": "stream",
     "text": [
      "[1, 1, 1, 2, 3, 4, 10, 50, 50] is monotonic?: True\n",
      "[-11, 21, 41, 52, 63, 94, 110, -50, 50] is monotonic?: False\n"
     ]
    }
   ],
   "source": [
    "def monotonic(arr):\n",
    "    if(all(arr[i] <= arr[i+1] for i in range(len(arr) - 1)) or all(arr[i] >= arr[i+1] for i in range(len(arr) - 1))):\n",
    "        return(f'{arr} is monotonic?: True')\n",
    "    else:\n",
    "         return(f'{arr} is monotonic?: False')\n",
    "print(monotonic([1,1,1,2,3,4,10,50,50]))\n",
    "print(monotonic([-11,21,41,52,63,94,110,-50,50]))"
   ]
  },
  {
   "cell_type": "code",
   "execution_count": null,
   "metadata": {},
   "outputs": [],
   "source": []
  }
 ],
 "metadata": {
  "kernelspec": {
   "display_name": "Python 3",
   "language": "python",
   "name": "python3"
  },
  "language_info": {
   "codemirror_mode": {
    "name": "ipython",
    "version": 3
   },
   "file_extension": ".py",
   "mimetype": "text/x-python",
   "name": "python",
   "nbconvert_exporter": "python",
   "pygments_lexer": "ipython3",
   "version": "3.8.5"
  }
 },
 "nbformat": 4,
 "nbformat_minor": 4
}
