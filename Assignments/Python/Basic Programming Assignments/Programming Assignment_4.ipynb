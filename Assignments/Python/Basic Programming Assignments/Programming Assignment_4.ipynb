{
 "cells": [
  {
   "cell_type": "code",
   "execution_count": null,
   "metadata": {},
   "outputs": [],
   "source": [
    "# Write a Python Program to Find the Factorial of a Number?\n",
    "# Write a Python Program to Display the multiplication Table?\n",
    "# Write a Python Program to Print the Fibonacci sequence?\n",
    "# Write a Python Program to Check Armstrong Number?\n",
    "# Write a Python Program to Find Armstrong Number in an Interval?\n",
    "# Write a Python Program to Find the Sum of Natural Numbers?"
   ]
  },
  {
   "cell_type": "markdown",
   "metadata": {},
   "source": [
    "1.Write a Python Program to Find the Factorial of a Number?"
   ]
  },
  {
   "cell_type": "code",
   "execution_count": 5,
   "metadata": {},
   "outputs": [
    {
     "name": "stdout",
     "output_type": "stream",
     "text": [
      "Enter the number for which the Factorial is required: 6\n",
      "Factorial of 6 is 720\n"
     ]
    }
   ],
   "source": [
    "num = int(input(\"Enter the number for which the Factorial is required: \"))\n",
    "f=1\n",
    "if num == 0 or num==1:\n",
    "    print (f'Factorial of {num} is 1')\n",
    "else:\n",
    "    for i in range(2,num+1):\n",
    "        #print(f)\n",
    "        f=f*i\n",
    "    print(f'Factorial of {num} is {f}')"
   ]
  },
  {
   "cell_type": "markdown",
   "metadata": {},
   "source": [
    "2.Write a Python Program to Display the multiplication Table?"
   ]
  },
  {
   "cell_type": "code",
   "execution_count": 12,
   "metadata": {},
   "outputs": [
    {
     "name": "stdout",
     "output_type": "stream",
     "text": [
      "Enter the number for which the multiplication Table is required: 5\n",
      "The Multiplication Table of 5 is: \n",
      "5 X 1 = 5\n",
      "5 X 2 = 10\n",
      "5 X 3 = 15\n",
      "5 X 4 = 20\n",
      "5 X 5 = 25\n",
      "5 X 6 = 30\n",
      "5 X 7 = 35\n",
      "5 X 8 = 40\n",
      "5 X 9 = 45\n",
      "5 X 10 = 50\n"
     ]
    }
   ],
   "source": [
    "num = int(input(\"Enter the number for which the multiplication Table is required: \"))\n",
    "print(f'The Multiplication Table of {num} is: ')\n",
    "for i in range(1,11):\n",
    "    print(f'{num} X {i} = {num*i}')"
   ]
  },
  {
   "cell_type": "markdown",
   "metadata": {},
   "source": [
    "3.Write a Python Program to Print the Fibonacci sequence?"
   ]
  },
  {
   "cell_type": "code",
   "execution_count": 1,
   "metadata": {},
   "outputs": [
    {
     "name": "stdout",
     "output_type": "stream",
     "text": [
      "Enter the number of terms in the Fibonacci sequence: 4\n",
      "0\n",
      "1\n",
      "1\n",
      "2\n"
     ]
    }
   ],
   "source": [
    "a=0\n",
    "b=1\n",
    "count=0\n",
    "num = int(input(\"Enter the number of terms in the Fibonacci sequence: \"))\n",
    "if num<0:\n",
    "    print(\"Invalid Input\")\n",
    "elif num==0:\n",
    "    print(\"Invalid Input\")\n",
    "elif num==1:\n",
    "    print(0)\n",
    "else:\n",
    "    while count<num:\n",
    "        print(a)\n",
    "        c=a+b\n",
    "        a=b\n",
    "        b=c\n",
    "        count=count+1"
   ]
  },
  {
   "cell_type": "markdown",
   "metadata": {},
   "source": [
    "4.Write a Python Program to Check Armstrong Number?"
   ]
  },
  {
   "cell_type": "code",
   "execution_count": 7,
   "metadata": {},
   "outputs": [
    {
     "name": "stdout",
     "output_type": "stream",
     "text": [
      "Enter the number: 1634\n",
      "1634 is Armstrong Number\n"
     ]
    }
   ],
   "source": [
    "num = int(input(\"Enter the number: \"))\n",
    "x=num\n",
    "count=0\n",
    "# To find the order of number\n",
    "while (x!=0):\n",
    "    count=count+1\n",
    "    x=x//10\n",
    "# print(count)\n",
    "\n",
    "temp=num\n",
    "sum=0\n",
    "while temp!=0:\n",
    "    r=temp%10\n",
    "    sum=sum+(r**count)\n",
    "    temp=temp//10\n",
    "    \n",
    "if sum==num:\n",
    "    print(f\"{num} is Armstrong Number\")\n",
    "else:\n",
    "    print(f\"{num} is not Armstrong Number\")"
   ]
  },
  {
   "cell_type": "markdown",
   "metadata": {},
   "source": [
    "5.Write a Python Program to Find Armstrong Number in an Interval?"
   ]
  },
  {
   "cell_type": "code",
   "execution_count": 2,
   "metadata": {},
   "outputs": [
    {
     "name": "stdout",
     "output_type": "stream",
     "text": [
      "Enter the Starting number: 153\n",
      "Enter the ending number: 371\n",
      "Armstrong Numbers in the Interval of 153 and 371 are :  [153, 370, 371]\n"
     ]
    }
   ],
   "source": [
    "import math\n",
    "Armlst=[]\n",
    "snum = int(input(\"Enter the Starting number: \"))\n",
    "enum = int(input(\"Enter the ending number: \"))\n",
    "for num in range (snum,enum+1):\n",
    "    n=0\n",
    "    x=num\n",
    "    while (x!=0):\n",
    "        n=n+1\n",
    "        x=x//10\n",
    "    # print(count)\n",
    "\n",
    "    sum=0\n",
    "    temp=num\n",
    "    while (temp!= 0):\n",
    "        r=temp%10\n",
    "        sum=sum+(r**n)\n",
    "        temp=temp//10\n",
    "\n",
    "    if (sum==num):\n",
    "        Armlst.append(num)\n",
    "print(f'Armstrong Numbers in the Interval of {snum} and {enum} are :  {Armlst}')"
   ]
  },
  {
   "cell_type": "markdown",
   "metadata": {},
   "source": [
    "6.Write a Python Program to Find the Sum of Natural Numbers?"
   ]
  },
  {
   "cell_type": "code",
   "execution_count": 5,
   "metadata": {},
   "outputs": [
    {
     "name": "stdout",
     "output_type": "stream",
     "text": [
      "Enter the number for which the sum is required: 5\n",
      "15.0\n"
     ]
    }
   ],
   "source": [
    "n = int(input(\"Enter the number for which the sum is required: \"))\n",
    "sum= (n*(n+1))/2\n",
    "print(sum)"
   ]
  },
  {
   "cell_type": "code",
   "execution_count": 4,
   "metadata": {},
   "outputs": [
    {
     "name": "stdout",
     "output_type": "stream",
     "text": [
      "Enter the number for which the sum is required: 3\n",
      "6\n"
     ]
    }
   ],
   "source": [
    "m = int(input(\"Enter the number for which the sum is required: \"))\n",
    "nsum=0\n",
    "i=1\n",
    "while (i<=m):\n",
    "    nsum=nsum+i\n",
    "    i=i+1\n",
    "print(nsum)"
   ]
  }
 ],
 "metadata": {
  "kernelspec": {
   "display_name": "Python 3",
   "language": "python",
   "name": "python3"
  },
  "language_info": {
   "codemirror_mode": {
    "name": "ipython",
    "version": 3
   },
   "file_extension": ".py",
   "mimetype": "text/x-python",
   "name": "python",
   "nbconvert_exporter": "python",
   "pygments_lexer": "ipython3",
   "version": "3.8.5"
  }
 },
 "nbformat": 4,
 "nbformat_minor": 4
}
